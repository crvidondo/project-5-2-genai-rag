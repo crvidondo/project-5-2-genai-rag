{
 "cells": [
  {
   "cell_type": "markdown",
   "metadata": {},
   "source": [
    "# 0. Libraries"
   ]
  },
  {
   "cell_type": "code",
   "execution_count": null,
   "metadata": {},
   "outputs": [],
   "source": [
    "import os\n",
    "import pandas as pd\n",
    "import numpy as np\n",
    "import evaluate\n",
    "from openai import OpenAI\n",
    "\n",
    "from langchain_openai import OpenAIEmbeddings\n",
    "from langchain_chroma import Chroma\n",
    "from langchain_community.document_loaders import PyPDFLoader\n",
    "from langchain.text_splitter import RecursiveCharacterTextSplitter\n",
    "from IPython.display import display, Markdown"
   ]
  },
  {
   "cell_type": "markdown",
   "metadata": {},
   "source": [
    "# 1. Dataset Selection"
   ]
  },
  {
   "cell_type": "code",
   "execution_count": 21,
   "metadata": {},
   "outputs": [],
   "source": [
    "# Load the document\n",
    "document_dir = \"./data\"\n",
    "filename = \"allergies-doc.pdf\"\n",
    "file_path = os.path.join(document_dir, filename)"
   ]
  },
  {
   "cell_type": "markdown",
   "metadata": {},
   "source": [
    "# 2. Exploratory Data Analysis (EDA)"
   ]
  },
  {
   "cell_type": "code",
   "execution_count": 22,
   "metadata": {},
   "outputs": [
    {
     "name": "stdout",
     "output_type": "stream",
     "text": [
      "Loaded 9 pages from the document.\n",
      "Overview \n",
      "Millions of Americans have an allergy of some kind. You probably know one of those \n",
      "people or are one yourself. Almost 6% of U.S. adults and children have a food allergy. \n",
      "Food allergy symptoms are most common in babies and children, but they can appear at \n",
      "any age. You can even develop an allergy to foods you have eaten for years with no \n",
      "problems. \n",
      " \n",
      "Signs of Allergies \n",
      "The body’s immune system keeps you healthy by fighting off infections and other dangers \n",
      "to good health. A food allergy reaction occurs when your immune system overreacts to a \n",
      "food or a substance in a food, identifying it as a danger and triggering a protective \n",
      "response. \n",
      "While allergies tend to run in families, it is impossible to predict whether a child will inherit \n",
      "a parent’s food allergy or whether siblings will have a similar condition. Some research \n",
      "does suggest that the younger siblings of a child with a peanut allergy will also be allergic \n",
      "to peanuts. \n",
      "Symptoms of a food allergy can range from mild to severe. Just because an initial reaction \n",
      "causes few problems doesn’t mean that all reactions will be similar; a food that triggered \n",
      "only mild symptoms on one occasion may cause more severe symptoms at another time. \n",
      "The most severe allergic reaction is anaphylaxis — a life-threatening whole-body allergic \n",
      "reaction that can impair your breathing, cause a dramatic drop in your blood pressure and \n",
      "affect your heart rate. Anaphylaxis can come on within minutes of exposure to the trigger \n",
      "food. It can be fatal and must be treated promptly with an injection of epinephrine \n",
      "(adrenaline). \n",
      "While any food can cause an adverse reaction, eight types of food account for about 90 \n",
      "percent of all reactions: \n",
      "• Egg \n",
      "• Milk and Dairy \n",
      "• Peanuts \n",
      "• Tree nuts \n",
      "• Fish \n",
      "• Shellfish \n",
      "• Wheat \n",
      "• Soy \n",
      "• Sesame \n",
      "Most food-related symptoms occur within two hours of ingestion; often they start within \n",
      "minutes. In some very rare cases, the reaction may be delayed by four to six hours or even \n",
      "longer. Delayed reactions are most typically seen in children who develop eczema as a \n",
      "symptom of food allergy and in people with a rare allergy to red meat caused by the bite of \n",
      "a lone star tick. \n",
      "\n",
      "\n"
     ]
    }
   ],
   "source": [
    "# Load the document as pages\n",
    "pages = PyPDFLoader(file_path).load_and_split()\n",
    "\n",
    "print(f\"Loaded {len(pages)} pages from the document.\")\n",
    "\n",
    "# Display a sample to understand content and structure\n",
    "print(pages[0].page_content, '\\n\\n')"
   ]
  },
  {
   "cell_type": "markdown",
   "metadata": {},
   "source": [
    "# 3. Embedding and Storing Chunks"
   ]
  },
  {
   "cell_type": "markdown",
   "metadata": {},
   "source": [
    "### 3.1 Embedding"
   ]
  },
  {
   "cell_type": "code",
   "execution_count": null,
   "metadata": {},
   "outputs": [],
   "source": [
    "API_KEY = \"\"\n",
    "\n",
    "# Create the embeddings function\n",
    "embeddings = OpenAIEmbeddings(model=\"text-embedding-3-small\", api_key = API_KEY)\n",
    "\n",
    "# Create a text splitter\n",
    "text_splitter = RecursiveCharacterTextSplitter(chunk_size=700, chunk_overlap=50)"
   ]
  },
  {
   "cell_type": "markdown",
   "metadata": {},
   "source": [
    "### 3.2 Connection to Vector DB"
   ]
  },
  {
   "cell_type": "code",
   "execution_count": 24,
   "metadata": {},
   "outputs": [],
   "source": [
    "# Split the document into chunks\n",
    "chunks = text_splitter.split_documents(pages)"
   ]
  },
  {
   "cell_type": "code",
   "execution_count": 25,
   "metadata": {},
   "outputs": [
    {
     "name": "stdout",
     "output_type": "stream",
     "text": [
      "Overview \n",
      "Millions of Americans have an allergy of some kind. You probably know one of those \n",
      "people or are one yourself. Almost 6% of U.S. adults and children have a food allergy. \n",
      "Food allergy symptoms are most common in babies and children, but they can appear at \n",
      "any age. You can even develop an allergy to foods you have eaten for years with no \n",
      "problems. \n",
      " \n",
      "Signs of Allergies \n",
      "The body’s immune system keeps you healthy by fighting off infections and other dangers \n",
      "to good health. A food allergy reaction occurs when your immune system overreacts to a \n",
      "food or a substance in a food, identifying it as a danger and triggering a protective \n",
      "response. \n",
      "\n",
      "\n"
     ]
    }
   ],
   "source": [
    "# Load it into Chroma\n",
    "db = Chroma.from_documents(chunks, embeddings, persist_directory=\"./chroma_db\")\n",
    "\n",
    "print(chunks[0].page_content, '\\n\\n')"
   ]
  },
  {
   "cell_type": "markdown",
   "metadata": {},
   "source": [
    "### 3.3 AI Frameworks"
   ]
  },
  {
   "cell_type": "code",
   "execution_count": 26,
   "metadata": {},
   "outputs": [
    {
     "name": "stdout",
     "output_type": "stream",
     "text": [
      "Overview \n",
      "Millions of Americans have an allergy of some kind. You probably know one of those \n",
      "people or are one yourself. Almost 6% of U.S. adults and children have a food allergy. \n",
      "Food allergy symptoms are most common in babies and children, but they can appear at \n",
      "any age. You can even develop an allergy to foods you have eaten for years with no \n",
      "problems. \n",
      " \n",
      "Signs of Allergies \n",
      "The body’s immune system keeps you healthy by fighting off infections and other dangers \n",
      "to good health. A food allergy reaction occurs when your immune system overreacts to a \n",
      "food or a substance in a food, identifying it as a danger and triggering a protective \n",
      "response. \n",
      "\n",
      "\n",
      "Overview \n",
      "Millions of Americans have an allergy of some kind. You probably know one of those \n",
      "people or are one yourself. Almost 6% of U.S. adults and children have a food allergy. \n",
      "Food allergy symptoms are most common in babies and children, but they can appear at \n",
      "any age. You can even develop an allergy to foods you have eaten for years with no \n",
      "problems. \n",
      " \n",
      "Signs of Allergies \n",
      "The body’s immune system keeps you healthy by fighting off infections and other dangers \n",
      "to good health. A food allergy reaction occurs when your immune system overreacts to a \n",
      "food or a substance in a food, identifying it as a danger and triggering a protective \n",
      "response. \n",
      "\n",
      "\n",
      "• What and how much you ate \n",
      "• How long it took for symptoms to develop \n",
      "• What symptoms you experienced and how long they lasted. \n",
      "After taking your history, your allergist may order skin tests and/or blood tests, which \n",
      "indicate whether food-specific immunoglobulin E (IgE) antibodies are present in your \n",
      "body: \n",
      "Skin-prick tests provide results in about 20 minutes. A liquid containing a tiny \n",
      "amount of the food allergen is placed on the skin of your arm or back. Your skin is \n",
      "pricked with a small, sterile probe, allowing the liquid to seep under the skin. The \n",
      "test, which isn’t painful but can be uncomfortable, is considered positive if a wheal \n",
      "\n",
      "\n"
     ]
    }
   ],
   "source": [
    "# Retrieve relevant documents based on the user's question.\n",
    "user_question = input(\"Ask a question about allergies: \")\n",
    "docs = db.similarity_search(user_question, k=3)\n",
    "\n",
    "# Display Retrieved Results\n",
    "for doc in docs[0:3]:\n",
    "    print(doc.page_content, '\\n')\n",
    "    print()"
   ]
  },
  {
   "cell_type": "markdown",
   "metadata": {},
   "source": [
    "# 4. Connection to LLM"
   ]
  },
  {
   "cell_type": "code",
   "execution_count": 27,
   "metadata": {},
   "outputs": [],
   "source": [
    "# Build a function to create the context for the Prompt\n",
    "def _get_document_context(docs):\n",
    "    context = '\\n'\n",
    "    for doc in docs:\n",
    "        context += '\\nContext:\\n'\n",
    "        context += doc.page_content + '\\n\\n'\n",
    "    return context"
   ]
  },
  {
   "cell_type": "code",
   "execution_count": 28,
   "metadata": {},
   "outputs": [],
   "source": [
    "# Construct the prompt for the LLM including the context based on the results from the query\n",
    "def generate_prompt(user_question, docs):\n",
    "    prompt = f\"\"\"\n",
    "    INTRODUCTION\n",
    "    You are a knowledgeable assistant trained to answer questions about allergies, symptoms, and management strategies. Your responses should be clear, concise, and focused on accurate information.\n",
    "\n",
    "    The user asked: \"{user_question}\"\n",
    "\n",
    "    CONTEXT\n",
    "    Technical documentation for allergies, symptoms, and management of allergen ingestion:\n",
    "    '''\n",
    "    {_get_document_context(docs)}\n",
    "    '''\n",
    "\n",
    "    RESTRICTIONS\n",
    "    Always refer to products or allergens by their specific names as mentioned in the documentation.\n",
    "    Stick to facts and provide clear, evidence-based responses; avoid opinions or interpretations.\n",
    "    Only respond if the answer can be found within the context. If not, let the user know that the information is not available.\n",
    "    Do not engage in topics outside allergies, symptoms, and related health matters. Avoid humor, sensitive topics, and speculative discussions.\n",
    "    If the user’s question lacks sufficient details, request clarification rather than guessing the answer.\n",
    "\n",
    "    TASK\n",
    "    Provide a direct answer based on the user’s question, if possible.\n",
    "    Guide the user to relevant sections of the documentation if additional context is needed.\n",
    "    Format the response in Markdown format.\n",
    "\n",
    "    RESPONSE STRUCTURE:\n",
    "    '''\n",
    "    # [Answer Title]\n",
    "    [answer text]\n",
    "    '''\n",
    "\n",
    "    CONVERSATION:\n",
    "    User: {user_question}\n",
    "    Agent:\n",
    "    \"\"\"\n",
    "    return prompt\n"
   ]
  },
  {
   "cell_type": "code",
   "execution_count": 29,
   "metadata": {},
   "outputs": [],
   "source": [
    "prompt = generate_prompt(user_question, docs)"
   ]
  },
  {
   "cell_type": "code",
   "execution_count": null,
   "metadata": {},
   "outputs": [
    {
     "name": "stdout",
     "output_type": "stream",
     "text": [
      "User asked: Tell me all about allergies:\n",
      "\n",
      "From Model: gpt-4o-mini-2024-07-18:\n",
      "\n"
     ]
    },
    {
     "data": {
      "text/markdown": [
       "```\n",
       "# Overview of Allergies\n",
       "Millions of Americans have an allergy of some kind, with nearly 6% of U.S. adults and children experiencing food allergies. Symptoms of food allergies are most common in babies and children but can develop at any age, even to foods that have been consumed without issues for years.\n",
       "\n",
       "# Signs of Allergies\n",
       "Allergic reactions occur when the immune system overreacts to a food or a substance in a food, identifying it as a danger and triggering a protective response. \n",
       "\n",
       "# Diagnosis\n",
       "To diagnose food allergies, healthcare providers will consider:\n",
       "- What and how much you ate\n",
       "- How long it took for symptoms to develop\n",
       "- What symptoms you experienced and how long they lasted\n",
       "\n",
       "After taking your history, an allergist may order skin tests and/or blood tests to detect food-specific immunoglobulin E (IgE) antibodies. Skin-prick tests provide results in about 20 minutes, where a small amount of the food allergen is placed on the"
      ],
      "text/plain": [
       "<IPython.core.display.Markdown object>"
      ]
     },
     "metadata": {},
     "output_type": "display_data"
    }
   ],
   "source": [
    "# Initialize an OpenAI Assistant\n",
    "client = OpenAI(api_key = API_KEY)\n",
    "\n",
    "messages = [{'role':'user', 'content':prompt}]\n",
    "model_params = {'model': 'gpt-4o-mini', 'temperature': 0.4, 'max_tokens': 200}\n",
    "completion = client.chat.completions.create(messages=messages, **model_params, timeout=120)\n",
    "\n",
    "\n",
    "answer = completion.choices[0].message.content\n",
    "\n",
    "print(f'User asked: {user_question}:\\n')\n",
    "display(Markdown(answer))"
   ]
  },
  {
   "cell_type": "markdown",
   "metadata": {},
   "source": [
    "# 5. Evaluation"
   ]
  },
  {
   "cell_type": "code",
   "execution_count": 31,
   "metadata": {},
   "outputs": [
    {
     "data": {
      "text/html": [
       "<div>\n",
       "<style scoped>\n",
       "    .dataframe tbody tr th:only-of-type {\n",
       "        vertical-align: middle;\n",
       "    }\n",
       "\n",
       "    .dataframe tbody tr th {\n",
       "        vertical-align: top;\n",
       "    }\n",
       "\n",
       "    .dataframe thead th {\n",
       "        text-align: right;\n",
       "    }\n",
       "</style>\n",
       "<table border=\"1\" class=\"dataframe\">\n",
       "  <thead>\n",
       "    <tr style=\"text-align: right;\">\n",
       "      <th></th>\n",
       "      <th>Question</th>\n",
       "      <th>Answer</th>\n",
       "    </tr>\n",
       "  </thead>\n",
       "  <tbody>\n",
       "    <tr>\n",
       "      <th>0</th>\n",
       "      <td>What are the most common food allergens?</td>\n",
       "      <td>The most common food allergens include milk, e...</td>\n",
       "    </tr>\n",
       "    <tr>\n",
       "      <th>1</th>\n",
       "      <td>Can you outgrow food allergies?</td>\n",
       "      <td>Yes, children may outgrow allergies to milk, e...</td>\n",
       "    </tr>\n",
       "    <tr>\n",
       "      <th>2</th>\n",
       "      <td>How is a food allergy diagnosed?</td>\n",
       "      <td>Diagnosis involves a medical history review, s...</td>\n",
       "    </tr>\n",
       "    <tr>\n",
       "      <th>3</th>\n",
       "      <td>What is anaphylaxis?</td>\n",
       "      <td>Anaphylaxis is a severe, life-threatening alle...</td>\n",
       "    </tr>\n",
       "    <tr>\n",
       "      <th>4</th>\n",
       "      <td>How can I prevent food allergies?</td>\n",
       "      <td>Prevention strategies include delaying the int...</td>\n",
       "    </tr>\n",
       "  </tbody>\n",
       "</table>\n",
       "</div>"
      ],
      "text/plain": [
       "                                   Question  \\\n",
       "0  What are the most common food allergens?   \n",
       "1           Can you outgrow food allergies?   \n",
       "2          How is a food allergy diagnosed?   \n",
       "3                      What is anaphylaxis?   \n",
       "4         How can I prevent food allergies?   \n",
       "\n",
       "                                              Answer  \n",
       "0  The most common food allergens include milk, e...  \n",
       "1  Yes, children may outgrow allergies to milk, e...  \n",
       "2  Diagnosis involves a medical history review, s...  \n",
       "3  Anaphylaxis is a severe, life-threatening alle...  \n",
       "4  Prevention strategies include delaying the int...  "
      ]
     },
     "execution_count": 31,
     "metadata": {},
     "output_type": "execute_result"
    }
   ],
   "source": [
    "# Load the evaluation data into a data frame\n",
    "references = pd.read_csv(\"./data/References for Evaluation.csv\")\n",
    "references.head()  # Display the first few rows to verify loading"
   ]
  },
  {
   "cell_type": "code",
   "execution_count": 32,
   "metadata": {},
   "outputs": [],
   "source": [
    "# Divide both columns\n",
    "references_questions = references[\"Question\"]\n",
    "references_answers = references[\"Answer\"]"
   ]
  },
  {
   "cell_type": "code",
   "execution_count": 33,
   "metadata": {},
   "outputs": [
    {
     "name": "stdout",
     "output_type": "stream",
     "text": [
      "Generated Response: [\"'''\\n# Most Common Food Allergens\\nThe most common food allergens include:\\n\\n- **Milk**\\n- **Eggs**\\n- **Peanuts**\\n- **Tree nuts**\\n- **Fish**\\n- **Shellfish** (both crustaceans and mollusks)\\n- **Fruit and vegetable pollen** (related to oral allergy syndrome)\\n\\nChildren may outgrow allergies to milk and eggs, but peanut and tree nut allergies are likely to persist. Additionally, individuals allergic to one type of nut may be cross-reactive to others, and those allergic to shrimp may react to crab and lobster.\\n'''\", \"'''\\n# Can You Outgrow Food Allergies?\\nYes, it is possible to outgrow food allergies. Children often outgrow allergies to milk, egg, soy, and wheat. Recent research suggests that up to 25 percent of children may outgrow their peanut allergy, with slightly fewer expected to outgrow tree nut allergies. However, if a food allergy develops in adulthood, the chances of outgrowing it are much lower, as food allergies in adults tend to be lifelong.\\n'''\", '```\\n# Food Allergy Diagnosis\\nA food allergy is diagnosed primarily through a combination of patient history, skin tests, blood tests, and, in some cases, an oral food challenge. The oral food challenge is considered the most accurate method and involves administering small amounts of the suspected allergen under strict medical supervision to observe for any reactions. This test is particularly useful when other tests are inconclusive or when determining if an allergy has been outgrown. It should only be conducted by experienced allergists in a controlled environment with emergency medication available.\\n```', \"'''\\n# What is Anaphylaxis?\\nAnaphylaxis is a severe, life-threatening allergic reaction that can occur suddenly after exposure to an allergen. It can impair breathing, cause a sudden drop in blood pressure, and may escalate quickly. Symptoms can range from mild to severe, and the severity of each reaction is unpredictable. Anaphylaxis is the leading cause of allergic reactions outside the hospital setting in the U.S. It can occur within seconds or minutes of exposure to the allergen and can be fatal if not treated promptly.\\n'''\", \"```\\n# Preventing Food Allergies\\nThe primary way to manage a food allergy is to avoid consuming the food that causes you problems. While there is no guaranteed method to prevent food allergies, you can take steps to reduce the risk of developing them. Consulting with a dietitian or nutritionist can provide tailored advice on avoiding trigger foods while ensuring you receive adequate nutrition. Additionally, special cookbooks and support groups for individuals with specific allergies can offer valuable resources and information. \\n\\nIf you have concerns about food allergies or their management, it's advisable to seek professional guidance.\\n```\", \"'''\\n# Treatments for Food Allergies\\nCurrently, the primary way to manage a food allergy is to avoid consuming the food that causes the allergic reaction. Careful checking of ingredient labels is essential to avoid allergens.\\n\\nFor peanut allergy specifically, there is a treatment called Palforzia, which is an oral therapy approved by the FDA in January 2020 for children and teenagers aged 4 to 17 years. This treatment must be taken every day and works to help manage peanut allergies.\\n\\nOther than avoidance and Palforzia for peanut allergies, there are no additional treatments mentioned for other food allergies in the provided context.\\n'''\", \"'''\\n# Can Food Allergens Remain on Objects?\\nYes, food allergens can potentially remain on objects if they are not carefully cleaned. Simply touching an object that contains an allergen may cause a localized skin reaction, such as a rash, at the site of contact. However, without swallowing the allergen, it is highly unlikely to trigger a more severe allergic reaction. In most cases, washing the affected area will resolve any rash, and medication is typically not needed. It is a myth that severe reactions can occur from merely touching allergenic substances without ingestion. Thorough cleaning with soap and water is effective in removing allergens from skin and surfaces.\\n'''\", \"'''\\n# Can You Develop Food Allergies as an Adult?\\nYes, it is possible to develop food allergies as an adult, although it is rare. The most common food allergies for adults include shellfish (both crustaceans and mollusks), tree nuts, peanuts, and fish. Many adults with food allergies have had their allergies since childhood, and allergic reactions in adults can sometimes be misidentified due to symptoms resembling the flu or food poisoning. It is important for adults to pay close attention to any symptoms to avoid continuing to consume allergenic foods.\\n'''\", \"'''\\n# Symptoms Indicating a Food Allergy\\nSymptoms of a food allergy can range from mild to severe and may include:\\n\\n- Skin reactions such as hives, redness, or swelling\\n- Gastrointestinal symptoms like nausea, vomiting, or diarrhea\\n- Respiratory issues, including nasal congestion, sneezing, or difficulty breathing\\n- Anaphylaxis, a severe reaction that can impair breathing and cause a sudden drop in blood pressure\\n\\nIt's important to note that the severity of each reaction is unpredictable, and individuals can experience different symptoms at different times.\\n'''\", \"'''\\n# Food Allergy Symptoms Onset\\nFood allergy symptoms can appear within minutes to a few hours after ingestion of the allergen. The exact timing can vary based on the individual and the specific food involved. If you suspect a food allergy, it is important to consult with an allergist for proper evaluation and testing.\\n'''\", '```\\n# What is Oral Allergy Syndrome?\\nOral allergy syndrome, also known as pollen-food syndrome, is a condition that can develop in adulthood. It is caused by cross-reacting allergens found in both pollen and raw fruits, vegetables, and some tree nuts. This syndrome is not classified as a food allergy, although symptoms occur after eating certain foods, which can be confusing. The symptoms include an itchy mouth or tongue, and swelling of the lips or tongue. These symptoms are generally short-lived because the cross-reacting allergens are quickly digested and do not affect other parts of the body. This helps distinguish oral allergy syndrome from a true food allergy.\\n```', '```\\n# Gluten Allergy Prevalence\\nThere is no such thing as a gluten allergy. The term is often confused with wheat allergy or celiac disease. Celiac disease is a condition related to gluten, but it is not classified as an allergy. Therefore, the concept of gluten allergy is misleading and not applicable in the context of food allergies.\\n```', \"'''\\n# Managing Food Allergies\\nTo manage food allergies, the primary strategy is to avoid consuming the food that triggers your allergies. Here are some key steps:\\n\\n1. **Read Ingredient Labels**: Carefully check ingredient labels of food products to identify allergens and learn if they are known by other names.\\n\\n2. **Consult Experts**: Consider working with a dietitian or nutritionist who can provide tips for avoiding allergens while ensuring you still receive all necessary nutrients.\\n\\n3. **Utilize Resources**: Look for special cookbooks and support groups, either in person or online, that cater to individuals with specific allergies for additional information and support.\\n\\n4. **Emergency Preparedness**: Always be prepared for accidental exposure by having emergency medication and equipment available.\\n\\nBy following these strategies, you can effectively manage your food allergies.\\n'''\", '```\\n# How to Use an Epinephrine Auto-Injector\\n\\nTo use an epinephrine auto-injector, follow these steps:\\n\\n1. **Remove the Auto-Injector from its Case**: Take the auto-injector out of its protective case.\\n\\n2. **Remove the Safety Cap**: Take off the safety cap to expose the needle.\\n\\n3. **Position the Injector**: Hold the auto-injector in your dominant hand with your thumb on the bottom and fingers wrapped around the body.\\n\\n4. **Inject**: \\n   - Place the tip of the auto-injector against the outer thigh (midway between the hip and the knee).\\n   - Firmly push down until you hear a click, indicating that the injection has started.\\n   - Hold the injector in place for about 3 seconds to ensure the medication is delivered.\\n\\n5. **Remove the Injector**: Pull the auto-injector straight out from the thigh.\\n\\n6. **Massage the Injection', \"'''\\n# Cost of Food Allergy Testing\\nThe cost of food allergy testing can vary widely, as there is no uniform price and insurance coverage differs. Testing is generally not necessary unless there is a history of allergic reactions to a food, and it is used to confirm a diagnosis rather than screen for allergies. A positive test result does not alone confirm an allergy, and broad panel testing is not typically recommended without prior reactions.\\n'''\", '```\\n# Dietary Restrictions for Allergens\\nYes, individuals with food allergies typically have dietary restrictions based on their specific allergens. It is important to avoid foods that trigger allergic reactions. For example, those allergic to tree nuts should avoid all tree nuts, while someone allergic to peanuts may need to be cautious with certain legumes due to potential cross-reactivity. \\n\\nConsulting with a board-certified allergist is recommended to understand specific dietary restrictions and patterns of cross-reactivity. It is crucial to communicate your allergies when dining out and ensure that food preparation surfaces and utensils have not been contaminated by allergens.\\n```', \"'''\\n# Cross-Reactive Allergens\\nCross-reactive allergens are substances that can trigger allergic reactions in individuals who are already allergic to a specific food. This occurs because different allergens may share similar protein structures, leading the immune system to recognize them as the same. For example, a person allergic to one tree nut may also react to other tree nuts, and someone allergic to shrimp may have reactions to crab and lobster. Understanding these patterns of cross-reactivity is important for managing food allergies and should be guided by a board-certified allergist.\\n'''\", \"'''\\n# Food Allergies and Gastrointestinal Issues\\nYes, food allergies can cause gastrointestinal issues. Symptoms such as vomiting or diarrhea may occur as part of an allergic reaction to certain foods. However, these symptoms can sometimes be mistaken for the flu or food poisoning, especially in adults. It is important to pay attention to these symptoms, as they can indicate a food allergy that requires avoidance of the offending food.\\n'''\", '```\\n# Precautionary Labeling Statements\\nPrecautionary labeling statements are advisory warnings found on food packaging that indicate potential allergen contamination. Examples include phrases such as “may contain,” “might contain,” “made on shared equipment,” or “made in a shared facility.” These statements are not mandated by law and do not have standardized definitions. If you have specific questions about food safety regarding allergens, it is advisable to consult with your allergist.\\n```', \"'''\\n# What to Do in Case of a Severe Allergic Reaction\\n\\nIn the event of a severe allergic reaction (anaphylaxis), follow these steps:\\n\\n1. **Administer Epinephrine**: Use your prescribed epinephrine auto-injector immediately, as it is the first-line treatment for anaphylaxis. If you are uncertain whether the reaction warrants epinephrine, it is better to use it right away.\\n\\n2. **Call for Help**: After administering epinephrine, call for an ambulance or have someone nearby do so. Inform the dispatcher that epinephrine was given and that more may be needed.\\n\\n3. **Monitor Symptoms**: Be aware that symptoms can worsen quickly. You may need repeated doses of epinephrine.\\n\\n4. **Seek Emergency Care**: Go to the emergency room, as monitoring after epinephrine administration is essential. Policies for monitoring may vary by hospital.\\n\\nAlways check the expiration date of your auto-injector and ensure you have a\"]\n",
      "\n"
     ]
    }
   ],
   "source": [
    "# Initialize an empty list to store results\n",
    "generated_answers = []\n",
    "\n",
    "for question in references_questions:\n",
    "    # Retrieve relevant documents\n",
    "    docs = db.similarity_search(question, k=3)\n",
    "    # Construct the prompt for the LLM by calling the function\n",
    "    prompt = generate_prompt(question, docs)\n",
    "    # Generate response using the LLM\n",
    "    messages = [{'role': 'user', 'content': prompt}]\n",
    "    completion = client.chat.completions.create(messages=messages, **model_params, timeout=120)\n",
    "    answer = completion.choices[0].message.content\n",
    "    # Store the generated response\n",
    "    generated_answers.append(answer)\n",
    "    \n",
    "print(f\"Generated Response: {generated_answers}\\n\")"
   ]
  },
  {
   "cell_type": "code",
   "execution_count": 34,
   "metadata": {},
   "outputs": [
    {
     "data": {
      "text/html": [
       "<div>\n",
       "<style scoped>\n",
       "    .dataframe tbody tr th:only-of-type {\n",
       "        vertical-align: middle;\n",
       "    }\n",
       "\n",
       "    .dataframe tbody tr th {\n",
       "        vertical-align: top;\n",
       "    }\n",
       "\n",
       "    .dataframe thead th {\n",
       "        text-align: right;\n",
       "    }\n",
       "</style>\n",
       "<table border=\"1\" class=\"dataframe\">\n",
       "  <thead>\n",
       "    <tr style=\"text-align: right;\">\n",
       "      <th></th>\n",
       "      <th>Question</th>\n",
       "      <th>Expected Answer</th>\n",
       "      <th>Generated Answer</th>\n",
       "    </tr>\n",
       "  </thead>\n",
       "  <tbody>\n",
       "    <tr>\n",
       "      <th>0</th>\n",
       "      <td>What are the most common food allergens?</td>\n",
       "      <td>The most common food allergens include milk, e...</td>\n",
       "      <td>'''\\n# Most Common Food Allergens\\nThe most co...</td>\n",
       "    </tr>\n",
       "    <tr>\n",
       "      <th>1</th>\n",
       "      <td>Can you outgrow food allergies?</td>\n",
       "      <td>Yes, children may outgrow allergies to milk, e...</td>\n",
       "      <td>'''\\n# Can You Outgrow Food Allergies?\\nYes, i...</td>\n",
       "    </tr>\n",
       "    <tr>\n",
       "      <th>2</th>\n",
       "      <td>How is a food allergy diagnosed?</td>\n",
       "      <td>Diagnosis involves a medical history review, s...</td>\n",
       "      <td>```\\n# Food Allergy Diagnosis\\nA food allergy ...</td>\n",
       "    </tr>\n",
       "    <tr>\n",
       "      <th>3</th>\n",
       "      <td>What is anaphylaxis?</td>\n",
       "      <td>Anaphylaxis is a severe, life-threatening alle...</td>\n",
       "      <td>'''\\n# What is Anaphylaxis?\\nAnaphylaxis is a ...</td>\n",
       "    </tr>\n",
       "    <tr>\n",
       "      <th>4</th>\n",
       "      <td>How can I prevent food allergies?</td>\n",
       "      <td>Prevention strategies include delaying the int...</td>\n",
       "      <td>```\\n# Preventing Food Allergies\\nThe primary ...</td>\n",
       "    </tr>\n",
       "  </tbody>\n",
       "</table>\n",
       "</div>"
      ],
      "text/plain": [
       "                                   Question  \\\n",
       "0  What are the most common food allergens?   \n",
       "1           Can you outgrow food allergies?   \n",
       "2          How is a food allergy diagnosed?   \n",
       "3                      What is anaphylaxis?   \n",
       "4         How can I prevent food allergies?   \n",
       "\n",
       "                                     Expected Answer  \\\n",
       "0  The most common food allergens include milk, e...   \n",
       "1  Yes, children may outgrow allergies to milk, e...   \n",
       "2  Diagnosis involves a medical history review, s...   \n",
       "3  Anaphylaxis is a severe, life-threatening alle...   \n",
       "4  Prevention strategies include delaying the int...   \n",
       "\n",
       "                                    Generated Answer  \n",
       "0  '''\\n# Most Common Food Allergens\\nThe most co...  \n",
       "1  '''\\n# Can You Outgrow Food Allergies?\\nYes, i...  \n",
       "2  ```\\n# Food Allergy Diagnosis\\nA food allergy ...  \n",
       "3  '''\\n# What is Anaphylaxis?\\nAnaphylaxis is a ...  \n",
       "4  ```\\n# Preventing Food Allergies\\nThe primary ...  "
      ]
     },
     "metadata": {},
     "output_type": "display_data"
    }
   ],
   "source": [
    "# Combine questions, expected answers, and generated answers into a DataFrame for easy analysis\n",
    "evaluation_results = pd.DataFrame({\n",
    "    \"Question\": references_questions,\n",
    "    \"Expected Answer\": references_answers,\n",
    "    \"Generated Answer\": generated_answers\n",
    "})\n",
    "\n",
    "# Display the evaluation results to review and compare\n",
    "display(evaluation_results.head())"
   ]
  },
  {
   "cell_type": "code",
   "execution_count": 38,
   "metadata": {},
   "outputs": [
    {
     "data": {
      "application/vnd.jupyter.widget-view+json": {
       "model_id": "ff62e7f6fcc14b05ae65bd8750e4a123",
       "version_major": 2,
       "version_minor": 0
      },
      "text/plain": [
       "Downloading builder script:   0%|          | 0.00/6.27k [00:00<?, ?B/s]"
      ]
     },
     "metadata": {},
     "output_type": "display_data"
    }
   ],
   "source": [
    "# Load the ROUGE metric\n",
    "rouge = evaluate.load('rouge')\n",
    "\n",
    "# Calculate ROUGE scores for the generated answers against the expected answers\n",
    "rouge_results = rouge.compute(\n",
    "    predictions=generated_answers,\n",
    "    references=references_answers,\n",
    "    use_aggregator=True,\n",
    "    use_stemmer=True\n",
    ")"
   ]
  },
  {
   "cell_type": "code",
   "execution_count": 39,
   "metadata": {},
   "outputs": [
    {
     "name": "stdout",
     "output_type": "stream",
     "text": [
      "ROUGE Evaluation Results:\n",
      "{'rouge1': 0.2684883661078251, 'rouge2': 0.11999412021369513, 'rougeL': 0.21889558199231385, 'rougeLsum': 0.2244312674668529}\n"
     ]
    }
   ],
   "source": [
    "# Display ROUGE results\n",
    "print(\"ROUGE Evaluation Results:\")\n",
    "print(rouge_results)"
   ]
  }
 ],
 "metadata": {
  "kernelspec": {
   "display_name": "base",
   "language": "python",
   "name": "python3"
  },
  "language_info": {
   "codemirror_mode": {
    "name": "ipython",
    "version": 3
   },
   "file_extension": ".py",
   "mimetype": "text/x-python",
   "name": "python",
   "nbconvert_exporter": "python",
   "pygments_lexer": "ipython3",
   "version": "3.12.4"
  }
 },
 "nbformat": 4,
 "nbformat_minor": 2
}
